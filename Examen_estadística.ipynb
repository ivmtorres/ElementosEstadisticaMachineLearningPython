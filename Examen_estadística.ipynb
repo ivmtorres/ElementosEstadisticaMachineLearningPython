{
  "nbformat": 4,
  "nbformat_minor": 0,
  "metadata": {
    "colab": {
      "name": "Examen_estadística.ipynb",
      "provenance": [],
      "toc_visible": true
    },
    "kernelspec": {
      "name": "python3",
      "display_name": "Python 3"
    }
  },
  "cells": [
    {
      "cell_type": "markdown",
      "metadata": {
        "id": "fdUSsKBULChV"
      },
      "source": [
        "# Independencia de variables aleatorias\n",
        "1. Genere la ley de probabilidad de las siguientes variables aleatorias:\n",
        "\n",
        "  - El número que puede salir en la [ruleta francesa](https://es.wikipedia.org/wiki/Ruleta#/media/Archivo:Roulette_frz.png) (sólo tienen un cero)\n",
        "  - El color que puede salir en la ruleta francesa\n",
        "\n",
        "2. Evalue si los siguientes eventos son dependientes o independientes\n",
        "  - A : obtener un numero impar,\n",
        "  - B : que sea color negro,\n",
        "\n",
        "3. Calcule la probabilidad condicional de obtener un número impar dado que salió el color negro P(A|B)\n",
        "\n",
        "4. Calcule la probabilidad condicional de que el número sea negro, dado que salio un impar P(A|B)\n",
        "\n"
      ]
    },
    {
      "cell_type": "code",
      "metadata": {
        "id": "di-k_snkLAxI"
      },
      "source": [
        "#Ley de probabilidad"
      ],
      "execution_count": null,
      "outputs": []
    },
    {
      "cell_type": "code",
      "metadata": {
        "id": "dtdiaWhLNTR5"
      },
      "source": [
        "#¿A y B son dependientes o independientes?"
      ],
      "execution_count": null,
      "outputs": []
    },
    {
      "cell_type": "code",
      "metadata": {
        "id": "5E1X17DDNZr1"
      },
      "source": [
        "# Probabilidad P(A|B)"
      ],
      "execution_count": null,
      "outputs": []
    },
    {
      "cell_type": "code",
      "metadata": {
        "id": "TZfQ6-BNNfcX"
      },
      "source": [
        "# Probabilidad P(B|A)"
      ],
      "execution_count": null,
      "outputs": []
    },
    {
      "cell_type": "markdown",
      "metadata": {
        "id": "ObDokxIM6lpw"
      },
      "source": [
        "#Espacio de probabilidad, varaiables aleatorias y ley de los grandes números\n",
        "\n",
        "Elegir un fenómeno aleatorio, para el que exista conocimiento sobre su distribución de probabilidad basados en estudios previos.\n",
        " * Especifique cuál es la variable aleatoria y grafique su espacio de probabilidad\n",
        " * Genere 5 muestra aleatoria con esa distribución, cada una de ellas con tamaño n=10, n=100, n=1000, n=5000, n =10000\n",
        " * Realice el paso anterior varias veces y describa sus observaciones"
      ]
    },
    {
      "cell_type": "code",
      "metadata": {
        "id": "3NmSQj9Y6hbI"
      },
      "source": [
        "# Espacio de probabilidad de la variable elegida (¿qué fenómeno real representa la variable?)"
      ],
      "execution_count": null,
      "outputs": []
    },
    {
      "cell_type": "code",
      "metadata": {
        "id": "6gYxB_RLBfh8"
      },
      "source": [
        "# Muestra aleatoria n=10"
      ],
      "execution_count": null,
      "outputs": []
    },
    {
      "cell_type": "code",
      "metadata": {
        "id": "TGu3dGHNBohs"
      },
      "source": [
        "# Muestra aleatoria n=100"
      ],
      "execution_count": null,
      "outputs": []
    },
    {
      "cell_type": "code",
      "metadata": {
        "id": "CgW7OceEBpkO"
      },
      "source": [
        "# Muestra aleatoria n=1000"
      ],
      "execution_count": null,
      "outputs": []
    },
    {
      "cell_type": "code",
      "metadata": {
        "id": "TAWNGAlrBrYt"
      },
      "source": [
        "# Muestra aleatoria n=5000"
      ],
      "execution_count": null,
      "outputs": []
    },
    {
      "cell_type": "code",
      "metadata": {
        "id": "ceoD3aPABuEW"
      },
      "source": [
        "# Muestra aleatoria n=1000"
      ],
      "execution_count": null,
      "outputs": []
    },
    {
      "cell_type": "markdown",
      "metadata": {
        "id": "xfsQcY0sJ6Ep"
      },
      "source": [
        "Observaciones: "
      ]
    },
    {
      "cell_type": "markdown",
      "metadata": {
        "id": "cZqVmbZVACd-"
      },
      "source": [
        "# Teorema del limite central\n",
        "* Genere 500 muestras de tamaño 200\n",
        "* Grafique la distribución de al menos 3 muestras del punto 4\n",
        "* Calcule la media de cada una de las 500 muestras  y grafique su distribución (distribución de los promedios de la muestra)\n",
        "* Describa sus observaciones"
      ]
    },
    {
      "cell_type": "code",
      "metadata": {
        "id": "D0GsVBR5C2Ww"
      },
      "source": [
        "# 500 muestras de tamaño 200"
      ],
      "execution_count": null,
      "outputs": []
    },
    {
      "cell_type": "code",
      "metadata": {
        "id": "4FM0UvLLC3aa"
      },
      "source": [
        "# Grafica de la distribución de al menos 3 muestras"
      ],
      "execution_count": null,
      "outputs": []
    },
    {
      "cell_type": "code",
      "metadata": {
        "id": "DXQ3wAy-C3wi"
      },
      "source": [
        "# Calculo de la media de cada una de las 500 muestras"
      ],
      "execution_count": null,
      "outputs": []
    },
    {
      "cell_type": "code",
      "metadata": {
        "id": "wa0Y1hAPC4sq"
      },
      "source": [
        "# Grafica de la distribución de los promedios de las 500 muestras"
      ],
      "execution_count": null,
      "outputs": []
    },
    {
      "cell_type": "markdown",
      "metadata": {
        "id": "_5_x7lN7KDlJ"
      },
      "source": [
        "Observaciones: "
      ]
    },
    {
      "cell_type": "markdown",
      "metadata": {
        "id": "YIFWhoOmD1Uh"
      },
      "source": [
        "# Intervalos de confianza\n",
        "* Calclule el intervalo de confianza de la décima muestra para un nivel de confianza de 95%\n",
        "* Genera una muestra más pero ahora de tamaño 400\n",
        "* Calcule el intervalo de confianza para un nivel de confianza de 95%\n",
        "* Explique sus observaciones"
      ]
    },
    {
      "cell_type": "code",
      "metadata": {
        "id": "ojahS0o3H7TY"
      },
      "source": [
        "#intarválo de convianza"
      ],
      "execution_count": null,
      "outputs": []
    },
    {
      "cell_type": "code",
      "metadata": {
        "id": "LMH3-nqfJEto"
      },
      "source": [
        "# generación de muestra de tamaño 400 y calculo del interválo de confianza"
      ],
      "execution_count": null,
      "outputs": []
    },
    {
      "cell_type": "markdown",
      "metadata": {
        "id": "0dHRxGEYKFMu"
      },
      "source": [
        "Observaciones: "
      ]
    },
    {
      "cell_type": "markdown",
      "metadata": {
        "id": "KF4UfG64H-au"
      },
      "source": [
        "# Aplicación de los conceptos  \n",
        "\n",
        "* Explique por qué los residuos de una regresión lineal deberían ser normales.\n",
        "* Explique que significa el p-value de un coeficiente en una regresión, cuál es la hipótesis nula que se pone a prueba y cuándo se rechaza o acepta la hipótesis.\n",
        "* ¿Que significa el intervalo de confianza de un coeficiente obenido de una regresión lineal?\n",
        "* Explique las ventajas de utilizar el algoritmo Naive-Bayes para la clasificación de textos como spam y no spam, y las hipótesis en las que se basa.\n"
      ]
    }
  ]
}
