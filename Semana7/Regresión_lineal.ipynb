{
  "nbformat": 4,
  "nbformat_minor": 0,
  "metadata": {
    "colab": {
      "name": "Regresión lineal.ipynb",
      "provenance": [],
      "collapsed_sections": [],
      "toc_visible": true,
      "mount_file_id": "1ZkIHUAKbqkomedO8PAKvYlVBQn0V7L12",
      "authorship_tag": "ABX9TyOBTzinVDwexcvcQpKdZ0i8",
      "include_colab_link": true
    },
    "kernelspec": {
      "name": "python3",
      "display_name": "Python 3"
    }
  },
  "cells": [
    {
      "cell_type": "markdown",
      "metadata": {
        "id": "view-in-github",
        "colab_type": "text"
      },
      "source": [
        "<a href=\"https://colab.research.google.com/github/AnIsAsPe/ElementosEstadisticaMachineLearningPython/blob/master/Semana7/Regresi%C3%B3n_lineal.ipynb\" target=\"_parent\"><img src=\"https://colab.research.google.com/assets/colab-badge.svg\" alt=\"Open In Colab\"/></a>"
      ]
    },
    {
      "cell_type": "markdown",
      "metadata": {
        "id": "MOfWHxj0IdEz"
      },
      "source": [
        "## Cargar bibiliotecas"
      ]
    },
    {
      "cell_type": "code",
      "metadata": {
        "id": "7EEU6cD0Oqk6",
        "outputId": "8dc07f7a-8386-49e1-ab38-a833345a2cc1",
        "colab": {
          "base_uri": "https://localhost:8080/"
        }
      },
      "source": [
        "!pip install -U yellowbrick"
      ],
      "execution_count": null,
      "outputs": [
        {
          "output_type": "stream",
          "text": [
            "Requirement already up-to-date: yellowbrick in /usr/local/lib/python3.6/dist-packages (1.2)\n",
            "Requirement already satisfied, skipping upgrade: scipy>=1.0.0 in /usr/local/lib/python3.6/dist-packages (from yellowbrick) (1.4.1)\n",
            "Requirement already satisfied, skipping upgrade: matplotlib!=3.0.0,>=2.0.2 in /usr/local/lib/python3.6/dist-packages (from yellowbrick) (3.2.2)\n",
            "Requirement already satisfied, skipping upgrade: cycler>=0.10.0 in /usr/local/lib/python3.6/dist-packages (from yellowbrick) (0.10.0)\n",
            "Requirement already satisfied, skipping upgrade: numpy>=1.13.0 in /usr/local/lib/python3.6/dist-packages (from yellowbrick) (1.18.5)\n",
            "Requirement already satisfied, skipping upgrade: scikit-learn>=0.20 in /usr/local/lib/python3.6/dist-packages (from yellowbrick) (0.22.2.post1)\n",
            "Requirement already satisfied, skipping upgrade: pyparsing!=2.0.4,!=2.1.2,!=2.1.6,>=2.0.1 in /usr/local/lib/python3.6/dist-packages (from matplotlib!=3.0.0,>=2.0.2->yellowbrick) (2.4.7)\n",
            "Requirement already satisfied, skipping upgrade: python-dateutil>=2.1 in /usr/local/lib/python3.6/dist-packages (from matplotlib!=3.0.0,>=2.0.2->yellowbrick) (2.8.1)\n",
            "Requirement already satisfied, skipping upgrade: kiwisolver>=1.0.1 in /usr/local/lib/python3.6/dist-packages (from matplotlib!=3.0.0,>=2.0.2->yellowbrick) (1.2.0)\n",
            "Requirement already satisfied, skipping upgrade: six in /usr/local/lib/python3.6/dist-packages (from cycler>=0.10.0->yellowbrick) (1.15.0)\n",
            "Requirement already satisfied, skipping upgrade: joblib>=0.11 in /usr/local/lib/python3.6/dist-packages (from scikit-learn>=0.20->yellowbrick) (0.17.0)\n"
          ],
          "name": "stdout"
        }
      ]
    },
    {
      "cell_type": "code",
      "metadata": {
        "id": "Wkte1t1UpdqM",
        "outputId": "80330af3-f993-488a-9c06-d60bb0e56d98",
        "colab": {
          "base_uri": "https://localhost:8080/"
        }
      },
      "source": [
        "import pandas as pd\n",
        "import numpy as np\n",
        "\n",
        "from sklearn.model_selection import train_test_split \n",
        "\n",
        "from sklearn.preprocessing import StandardScaler\n",
        "from sklearn.linear_model import LinearRegression\n",
        "from sklearn import metrics\n",
        "import statsmodels.api as sm\n",
        "from scipy import stats\n",
        "\n",
        "import matplotlib.pyplot as plt \n",
        "import seaborn as sns  "
      ],
      "execution_count": null,
      "outputs": [
        {
          "output_type": "stream",
          "text": [
            "/usr/local/lib/python3.6/dist-packages/statsmodels/tools/_testing.py:19: FutureWarning: pandas.util.testing is deprecated. Use the functions in the public API at pandas.testing instead.\n",
            "  import pandas.util.testing as tm\n"
          ],
          "name": "stderr"
        }
      ]
    },
    {
      "cell_type": "markdown",
      "metadata": {
        "id": "IUh34hn1djfG"
      },
      "source": [
        "# Cargar datos\n",
        "\n",
        "Dataset\n",
        "M. Cassotti, D. Ballabio, V. Consonni, A. Mauri, I. V. Tetko, R. Todeschini (2014). Prediction of acute aquatic toxicity towards daphnia magna using GA-kNN method, Alternatives to Laboratory Animals (ATLA), 42,31:41; doi: 10.1177/026119291404200106"
      ]
    },
    {
      "cell_type": "code",
      "metadata": {
        "id": "vP_eKMyawPDl",
        "outputId": "3d8c79a0-c5f5-4288-b6d4-9626669d19d2",
        "colab": {
          "base_uri": "https://localhost:8080/",
          "height": 215
        }
      },
      "source": [
        "#dataset: \n",
        "datos = pd.read_csv('https://archive.ics.uci.edu/ml/machine-learning-databases/00505/qsar_aquatic_toxicity.csv',\n",
        "                    names=  ['TPSA(Tot)', 'SAacc', 'H-050', 'MLOGP', \n",
        "                             'RDCHI', 'GATS1p', 'nN', 'C-040','acuatic toxicity'],\n",
        "                    sep=\";\", header=None)\n",
        "                    \n",
        "print(datos.shape)\n",
        "datos.head()"
      ],
      "execution_count": null,
      "outputs": [
        {
          "output_type": "stream",
          "text": [
            "(546, 9)\n"
          ],
          "name": "stdout"
        },
        {
          "output_type": "execute_result",
          "data": {
            "text/html": [
              "<div>\n",
              "<style scoped>\n",
              "    .dataframe tbody tr th:only-of-type {\n",
              "        vertical-align: middle;\n",
              "    }\n",
              "\n",
              "    .dataframe tbody tr th {\n",
              "        vertical-align: top;\n",
              "    }\n",
              "\n",
              "    .dataframe thead th {\n",
              "        text-align: right;\n",
              "    }\n",
              "</style>\n",
              "<table border=\"1\" class=\"dataframe\">\n",
              "  <thead>\n",
              "    <tr style=\"text-align: right;\">\n",
              "      <th></th>\n",
              "      <th>TPSA(Tot)</th>\n",
              "      <th>SAacc</th>\n",
              "      <th>H-050</th>\n",
              "      <th>MLOGP</th>\n",
              "      <th>RDCHI</th>\n",
              "      <th>GATS1p</th>\n",
              "      <th>nN</th>\n",
              "      <th>C-040</th>\n",
              "      <th>acuatic toxicity</th>\n",
              "    </tr>\n",
              "  </thead>\n",
              "  <tbody>\n",
              "    <tr>\n",
              "      <th>0</th>\n",
              "      <td>0.00</td>\n",
              "      <td>0.0</td>\n",
              "      <td>0</td>\n",
              "      <td>2.419</td>\n",
              "      <td>1.225</td>\n",
              "      <td>0.667</td>\n",
              "      <td>0</td>\n",
              "      <td>0</td>\n",
              "      <td>3.740</td>\n",
              "    </tr>\n",
              "    <tr>\n",
              "      <th>1</th>\n",
              "      <td>0.00</td>\n",
              "      <td>0.0</td>\n",
              "      <td>0</td>\n",
              "      <td>2.638</td>\n",
              "      <td>1.401</td>\n",
              "      <td>0.632</td>\n",
              "      <td>0</td>\n",
              "      <td>0</td>\n",
              "      <td>4.330</td>\n",
              "    </tr>\n",
              "    <tr>\n",
              "      <th>2</th>\n",
              "      <td>9.23</td>\n",
              "      <td>11.0</td>\n",
              "      <td>0</td>\n",
              "      <td>5.799</td>\n",
              "      <td>2.930</td>\n",
              "      <td>0.486</td>\n",
              "      <td>0</td>\n",
              "      <td>0</td>\n",
              "      <td>7.019</td>\n",
              "    </tr>\n",
              "    <tr>\n",
              "      <th>3</th>\n",
              "      <td>9.23</td>\n",
              "      <td>11.0</td>\n",
              "      <td>0</td>\n",
              "      <td>5.453</td>\n",
              "      <td>2.887</td>\n",
              "      <td>0.495</td>\n",
              "      <td>0</td>\n",
              "      <td>0</td>\n",
              "      <td>6.723</td>\n",
              "    </tr>\n",
              "    <tr>\n",
              "      <th>4</th>\n",
              "      <td>9.23</td>\n",
              "      <td>11.0</td>\n",
              "      <td>0</td>\n",
              "      <td>4.068</td>\n",
              "      <td>2.758</td>\n",
              "      <td>0.695</td>\n",
              "      <td>0</td>\n",
              "      <td>0</td>\n",
              "      <td>5.979</td>\n",
              "    </tr>\n",
              "  </tbody>\n",
              "</table>\n",
              "</div>"
            ],
            "text/plain": [
              "   TPSA(Tot)  SAacc  H-050  MLOGP  RDCHI  GATS1p  nN  C-040  acuatic toxicity\n",
              "0       0.00    0.0      0  2.419  1.225   0.667   0      0             3.740\n",
              "1       0.00    0.0      0  2.638  1.401   0.632   0      0             4.330\n",
              "2       9.23   11.0      0  5.799  2.930   0.486   0      0             7.019\n",
              "3       9.23   11.0      0  5.453  2.887   0.495   0      0             6.723\n",
              "4       9.23   11.0      0  4.068  2.758   0.695   0      0             5.979"
            ]
          },
          "metadata": {
            "tags": []
          },
          "execution_count": 3
        }
      ]
    },
    {
      "cell_type": "code",
      "metadata": {
        "id": "NSGFObTP2JFH",
        "outputId": "66dd9473-9d0e-4267-8765-af5c58886e7c",
        "colab": {
          "base_uri": "https://localhost:8080/",
          "height": 270
        }
      },
      "source": [
        "plt.figure(figsize=(5,4))\n",
        "sns.boxplot(y='acuatic toxicity', data=datos)"
      ],
      "execution_count": null,
      "outputs": [
        {
          "output_type": "execute_result",
          "data": {
            "text/plain": [
              "<matplotlib.axes._subplots.AxesSubplot at 0x7f53bc83eb38>"
            ]
          },
          "metadata": {
            "tags": []
          },
          "execution_count": 4
        },
        {
          "output_type": "display_data",
          "data": {
            "image/png": "[encoded data removed]",
            "text/plain": [
              "<Figure size 360x288 with 1 Axes>"
            ]
          },
          "metadata": {
            "tags": [],
            "needs_background": "light"
          }
        }
      ]
    },
    {
      "cell_type": "code",
      "metadata": {
        "id": "VehaFlgGQCTN",
        "outputId": "d63c5b08-6972-467f-bb12-85f1a1360c5d",
        "colab": {
          "base_uri": "https://localhost:8080/",
          "height": 278
        }
      },
      "source": [
        "plt.figure(figsize=(7,4))\n",
        "sns.histplot(x='acuatic toxicity', data=datos, bins=30 )\n",
        "plt.show()"
      ],
      "execution_count": null,
      "outputs": [
        {
          "output_type": "display_data",
          "data": {
            "image/png": "[encoded data removed]",
            "text/plain": [
              "<Figure size 504x288 with 1 Axes>"
            ]
          },
          "metadata": {
            "tags": [],
            "needs_background": "light"
          }
        }
      ]
    },
    {
      "cell_type": "code",
      "metadata": {
        "id": "Z58ZKbpMg0LF",
        "outputId": "9158776a-0e83-4a2a-bbf4-22359b7be5e3",
        "colab": {
          "base_uri": "https://localhost:8080/"
        }
      },
      "source": [
        "datos.info()"
      ],
      "execution_count": null,
      "outputs": [
        {
          "output_type": "stream",
          "text": [
            "<class 'pandas.core.frame.DataFrame'>\n",
            "RangeIndex: 546 entries, 0 to 545\n",
            "Data columns (total 9 columns):\n",
            " #   Column            Non-Null Count  Dtype  \n",
            "---  ------            --------------  -----  \n",
            " 0   TPSA(Tot)         546 non-null    float64\n",
            " 1   SAacc             546 non-null    float64\n",
            " 2   H-050             546 non-null    int64  \n",
            " 3   MLOGP             546 non-null    float64\n",
            " 4   RDCHI             546 non-null    float64\n",
            " 5   GATS1p            546 non-null    float64\n",
            " 6   nN                546 non-null    int64  \n",
            " 7   C-040             546 non-null    int64  \n",
            " 8   acuatic toxicity  546 non-null    float64\n",
            "dtypes: float64(6), int64(3)\n",
            "memory usage: 38.5 KB\n"
          ],
          "name": "stdout"
        }
      ]
    },
    {
      "cell_type": "markdown",
      "metadata": {
        "id": "DkjIWWSzTxkZ"
      },
      "source": [
        "# Separar datos en características y variable a predecir"
      ]
    },
    {
      "cell_type": "code",
      "metadata": {
        "id": "Zwh5zPJp9d25"
      },
      "source": [
        "y = datos['acuatic toxicity']\n",
        "X = datos.drop('acuatic toxicity', axis=1)"
      ],
      "execution_count": null,
      "outputs": []
    },
    {
      "cell_type": "markdown",
      "metadata": {
        "id": "QGmdtIW3E0JP"
      },
      "source": [
        "## Separar en conjunto de entrenamiento y prueba"
      ]
    },
    {
      "cell_type": "code",
      "metadata": {
        "id": "M2NrQqhsE59u"
      },
      "source": [
        "X_entrena, X_prueba, y_entrena, y_prueba = train_test_split (X, y,\n",
        "                                                             test_size = 0.2,\n",
        "                                                             shuffle = True,\n",
        "                                                             random_state = 8 )"
      ],
      "execution_count": null,
      "outputs": []
    },
    {
      "cell_type": "code",
      "metadata": {
        "id": "VGrlU1ZrGHPy",
        "outputId": "40d314dd-3322-468d-8ff4-066eaff6a93b",
        "colab": {
          "base_uri": "https://localhost:8080/"
        }
      },
      "source": [
        "# ¿Cómo son los conjuntos de entrenamiento y prueba?\n",
        "print(\"Conjunto de entrenamiento\")\n",
        "print(\"X: \", X_entrena.shape)\n",
        "print(\"y: \", y_entrena.shape)\n",
        "\n",
        "print(\"Conjunto de prueba\")\n",
        "print(\"X: \", X_prueba.shape)\n",
        "print(\"y: \", y_prueba.shape)\n"
      ],
      "execution_count": null,
      "outputs": [
        {
          "output_type": "stream",
          "text": [
            "Conjunto de entrenamiento\n",
            "X:  (436, 8)\n",
            "y:  (436,)\n",
            "Conjunto de prueba\n",
            "X:  (110, 8)\n",
            "y:  (110,)\n"
          ],
          "name": "stdout"
        }
      ]
    },
    {
      "cell_type": "code",
      "metadata": {
        "id": "2FUHNWF4XLrf"
      },
      "source": [
        ""
      ],
      "execution_count": null,
      "outputs": []
    },
    {
      "cell_type": "markdown",
      "metadata": {
        "id": "spWkOONMXM4F"
      },
      "source": [
        "# Regresión lineal"
      ]
    },
    {
      "cell_type": "code",
      "metadata": {
        "id": "4yXmcL9JEzaX",
        "outputId": "7a0e7e27-f47f-4c57-faac-a4af2e0370ef",
        "colab": {
          "base_uri": "https://localhost:8080/"
        }
      },
      "source": [
        "modelo = LinearRegression().fit(X_entrena, y_entrena)\n",
        "r2_model = modelo.score(X_entrena, y_entrena)\n",
        "print('R^2:', r2_model)"
      ],
      "execution_count": null,
      "outputs": [
        {
          "output_type": "stream",
          "text": [
            "R^2: 0.47122461905172747\n"
          ],
          "name": "stdout"
        }
      ]
    },
    {
      "cell_type": "code",
      "metadata": {
        "id": "S_B_oirzTapq",
        "outputId": "05095ed5-3c98-4b56-a9fe-5b94a916b66a",
        "colab": {
          "base_uri": "https://localhost:8080/",
          "height": 305
        }
      },
      "source": [
        "columnas = X.columns\n",
        "coeficientes = pd.DataFrame({'coef':modelo.coef_,\n",
        "                             'variable':list(columnas)})\n",
        "coeficientes = coeficientes.sort_values('coef').reset_index(drop=True)\n",
        "print('Intercept:', modelo.intercept_)\n",
        "coeficientes"
      ],
      "execution_count": null,
      "outputs": [
        {
          "output_type": "stream",
          "text": [
            "Intercept: 2.778188313344917\n"
          ],
          "name": "stdout"
        },
        {
          "output_type": "execute_result",
          "data": {
            "text/html": [
              "<div>\n",
              "<style scoped>\n",
              "    .dataframe tbody tr th:only-of-type {\n",
              "        vertical-align: middle;\n",
              "    }\n",
              "\n",
              "    .dataframe tbody tr th {\n",
              "        vertical-align: top;\n",
              "    }\n",
              "\n",
              "    .dataframe thead th {\n",
              "        text-align: right;\n",
              "    }\n",
              "</style>\n",
              "<table border=\"1\" class=\"dataframe\">\n",
              "  <thead>\n",
              "    <tr style=\"text-align: right;\">\n",
              "      <th></th>\n",
              "      <th>coef</th>\n",
              "      <th>variable</th>\n",
              "    </tr>\n",
              "  </thead>\n",
              "  <tbody>\n",
              "    <tr>\n",
              "      <th>0</th>\n",
              "      <td>-0.645890</td>\n",
              "      <td>GATS1p</td>\n",
              "    </tr>\n",
              "    <tr>\n",
              "      <th>1</th>\n",
              "      <td>-0.229370</td>\n",
              "      <td>nN</td>\n",
              "    </tr>\n",
              "    <tr>\n",
              "      <th>2</th>\n",
              "      <td>-0.014959</td>\n",
              "      <td>SAacc</td>\n",
              "    </tr>\n",
              "    <tr>\n",
              "      <th>3</th>\n",
              "      <td>0.011286</td>\n",
              "      <td>C-040</td>\n",
              "    </tr>\n",
              "    <tr>\n",
              "      <th>4</th>\n",
              "      <td>0.023825</td>\n",
              "      <td>TPSA(Tot)</td>\n",
              "    </tr>\n",
              "    <tr>\n",
              "      <th>5</th>\n",
              "      <td>0.030166</td>\n",
              "      <td>H-050</td>\n",
              "    </tr>\n",
              "    <tr>\n",
              "      <th>6</th>\n",
              "      <td>0.366262</td>\n",
              "      <td>MLOGP</td>\n",
              "    </tr>\n",
              "    <tr>\n",
              "      <th>7</th>\n",
              "      <td>0.666928</td>\n",
              "      <td>RDCHI</td>\n",
              "    </tr>\n",
              "  </tbody>\n",
              "</table>\n",
              "</div>"
            ],
            "text/plain": [
              "       coef   variable\n",
              "0 -0.645890     GATS1p\n",
              "1 -0.229370         nN\n",
              "2 -0.014959      SAacc\n",
              "3  0.011286      C-040\n",
              "4  0.023825  TPSA(Tot)\n",
              "5  0.030166      H-050\n",
              "6  0.366262      MLOGP\n",
              "7  0.666928      RDCHI"
            ]
          },
          "metadata": {
            "tags": []
          },
          "execution_count": 14
        }
      ]
    },
    {
      "cell_type": "code",
      "metadata": {
        "id": "kEnzP21GNxMu",
        "outputId": "79691f2f-1bdc-408c-dfb4-7729cec396d2",
        "colab": {
          "base_uri": "https://localhost:8080/",
          "height": 393
        }
      },
      "source": [
        "from yellowbrick.regressor import ResidualsPlot\n",
        "grafico_errores = ResidualsPlot(LinearRegression(), qqplot=False, hist=True)\n",
        "grafico_errores.fit(X_entrena, y_entrena)\n",
        "grafico_errores.score(X_prueba, y_prueba)  # Evaluate the model on the test data\n",
        "grafico_errores.show()              "
      ],
      "execution_count": null,
      "outputs": [
        {
          "output_type": "display_data",
          "data": {
            "image/png": "[encoded data removed]",
            "text/plain": [
              "<Figure size 576x396 with 2 Axes>"
            ]
          },
          "metadata": {
            "tags": []
          }
        },
        {
          "output_type": "execute_result",
          "data": {
            "text/plain": [
              "<matplotlib.axes._subplots.AxesSubplot at 0x7f53ba3db2b0>"
            ]
          },
          "metadata": {
            "tags": []
          },
          "execution_count": 15
        }
      ]
    },
    {
      "cell_type": "markdown",
      "metadata": {
        "id": "YG1C0c-yXcOL"
      },
      "source": [
        "# Regresión con statsmodels"
      ]
    },
    {
      "cell_type": "code",
      "metadata": {
        "id": "Luz_ZpObChH0",
        "outputId": "3384557a-13a4-4168-a88d-768d23d80885",
        "colab": {
          "base_uri": "https://localhost:8080/"
        }
      },
      "source": [
        "X_a = X_entrena\n",
        "X_a['constant'] = 1\n",
        "modelo = sm.OLS(y_entrena, X_a).fit()\n",
        "print(modelo.summary())"
      ],
      "execution_count": null,
      "outputs": [
        {
          "output_type": "stream",
          "text": [
            "                            OLS Regression Results                            \n",
            "==============================================================================\n",
            "Dep. Variable:       acuatic toxicity   R-squared:                       0.471\n",
            "Model:                            OLS   Adj. R-squared:                  0.461\n",
            "Method:                 Least Squares   F-statistic:                     47.57\n",
            "Date:                Tue, 03 Nov 2020   Prob (F-statistic):           1.47e-54\n",
            "Time:                        21:18:26   Log-Likelihood:                -701.46\n",
            "No. Observations:                 436   AIC:                             1421.\n",
            "Df Residuals:                     427   BIC:                             1458.\n",
            "Df Model:                           8                                         \n",
            "Covariance Type:            nonrobust                                         \n",
            "==============================================================================\n",
            "                 coef    std err          t      P>|t|      [0.025      0.975]\n",
            "------------------------------------------------------------------------------\n",
            "TPSA(Tot)      0.0238      0.003      8.071      0.000       0.018       0.030\n",
            "SAacc         -0.0150      0.002     -6.302      0.000      -0.020      -0.010\n",
            "H-050          0.0302      0.069      0.439      0.661      -0.105       0.165\n",
            "MLOGP          0.3663      0.071      5.146      0.000       0.226       0.506\n",
            "RDCHI          0.6669      0.156      4.272      0.000       0.360       0.974\n",
            "GATS1p        -0.6459      0.172     -3.750      0.000      -0.984      -0.307\n",
            "nN            -0.2294      0.054     -4.257      0.000      -0.335      -0.123\n",
            "C-040          0.0113      0.088      0.128      0.898      -0.162       0.185\n",
            "constant       2.7782      0.286      9.713      0.000       2.216       3.340\n",
            "==============================================================================\n",
            "Omnibus:                       39.214   Durbin-Watson:                   2.113\n",
            "Prob(Omnibus):                  0.000   Jarque-Bera (JB):               57.341\n",
            "Skew:                           0.635   Prob(JB):                     3.54e-13\n",
            "Kurtosis:                       4.243   Cond. No.                         575.\n",
            "==============================================================================\n",
            "\n",
            "Warnings:\n",
            "[1] Standard Errors assume that the covariance matrix of the errors is correctly specified.\n"
          ],
          "name": "stdout"
        },
        {
          "output_type": "stream",
          "text": [
            "/usr/local/lib/python3.6/dist-packages/ipykernel_launcher.py:2: SettingWithCopyWarning: \n",
            "A value is trying to be set on a copy of a slice from a DataFrame.\n",
            "Try using .loc[row_indexer,col_indexer] = value instead\n",
            "\n",
            "See the caveats in the documentation: https://pandas.pydata.org/pandas-docs/stable/user_guide/indexing.html#returning-a-view-versus-a-copy\n",
            "  \n"
          ],
          "name": "stderr"
        }
      ]
    },
    {
      "cell_type": "markdown",
      "metadata": {
        "id": "xwXrS7kLnr9H"
      },
      "source": [
        "# Calculo de [$R^2$](https://docs.google.com/presentation/d/1k0aYwEBzaaAkWjX6jRKAc40nKHi3FROkJwtXCOE22mI/edit#slide=id.ga8926b2cd2_0_14) \n",
        "\n",
        " $MSE = \\cfrac{1}{n}\\sum{( y - y_{pred})}^2$\n",
        "\n",
        "\n",
        "\n",
        " $R^2 \t= 1 -  \\cfrac{MSE(modelo)}{MSE(linea~base)}$\n"
      ]
    },
    {
      "cell_type": "code",
      "metadata": {
        "id": "Zn-0t9s8XXxc"
      },
      "source": [
        "y_linea = modelo.predict(X_entrena)\n",
        "\n",
        "df= pd.DataFrame({'y_real': y_entrena,\n",
        "                              'y_linea':y_linea})\n",
        "df['error'] = (df['y_real']- df['y_linea'])\n",
        "\n",
        "df['error^2'] =pow(df['error'],2)\n"
      ],
      "execution_count": null,
      "outputs": []
    },
    {
      "cell_type": "code",
      "metadata": {
        "id": "2YNBFCPhxYLi",
        "outputId": "fb7a6ae2-6a0e-472e-f058-ab6f759e0ba3",
        "colab": {
          "base_uri": "https://localhost:8080/",
          "height": 197
        }
      },
      "source": [
        "df.head()"
      ],
      "execution_count": null,
      "outputs": [
        {
          "output_type": "execute_result",
          "data": {
            "text/html": [
              "<div>\n",
              "<style scoped>\n",
              "    .dataframe tbody tr th:only-of-type {\n",
              "        vertical-align: middle;\n",
              "    }\n",
              "\n",
              "    .dataframe tbody tr th {\n",
              "        vertical-align: top;\n",
              "    }\n",
              "\n",
              "    .dataframe thead th {\n",
              "        text-align: right;\n",
              "    }\n",
              "</style>\n",
              "<table border=\"1\" class=\"dataframe\">\n",
              "  <thead>\n",
              "    <tr style=\"text-align: right;\">\n",
              "      <th></th>\n",
              "      <th>y_real</th>\n",
              "      <th>y_linea</th>\n",
              "      <th>error</th>\n",
              "      <th>error^2</th>\n",
              "    </tr>\n",
              "  </thead>\n",
              "  <tbody>\n",
              "    <tr>\n",
              "      <th>314</th>\n",
              "      <td>4.263</td>\n",
              "      <td>3.829207</td>\n",
              "      <td>0.433793</td>\n",
              "      <td>0.188176</td>\n",
              "    </tr>\n",
              "    <tr>\n",
              "      <th>227</th>\n",
              "      <td>3.485</td>\n",
              "      <td>4.151155</td>\n",
              "      <td>-0.666155</td>\n",
              "      <td>0.443762</td>\n",
              "    </tr>\n",
              "    <tr>\n",
              "      <th>517</th>\n",
              "      <td>5.381</td>\n",
              "      <td>5.513991</td>\n",
              "      <td>-0.132991</td>\n",
              "      <td>0.017687</td>\n",
              "    </tr>\n",
              "    <tr>\n",
              "      <th>364</th>\n",
              "      <td>1.820</td>\n",
              "      <td>2.782495</td>\n",
              "      <td>-0.962495</td>\n",
              "      <td>0.926397</td>\n",
              "    </tr>\n",
              "    <tr>\n",
              "      <th>401</th>\n",
              "      <td>4.390</td>\n",
              "      <td>5.104184</td>\n",
              "      <td>-0.714184</td>\n",
              "      <td>0.510059</td>\n",
              "    </tr>\n",
              "  </tbody>\n",
              "</table>\n",
              "</div>"
            ],
            "text/plain": [
              "     y_real   y_linea     error   error^2\n",
              "314   4.263  3.829207  0.433793  0.188176\n",
              "227   3.485  4.151155 -0.666155  0.443762\n",
              "517   5.381  5.513991 -0.132991  0.017687\n",
              "364   1.820  2.782495 -0.962495  0.926397\n",
              "401   4.390  5.104184 -0.714184  0.510059"
            ]
          },
          "metadata": {
            "tags": []
          },
          "execution_count": 20
        }
      ]
    },
    {
      "cell_type": "code",
      "metadata": {
        "id": "xiJGfgmT_mQO",
        "outputId": "a8ca3361-4269-4e20-932f-9a5c4f455eb7",
        "colab": {
          "base_uri": "https://localhost:8080/"
        }
      },
      "source": [
        "\n",
        "promedio_yreal = df['y_real'].mean()\n",
        "MSE_base = pow((df['y_real'] - promedio_yreal),2).sum() / len (df)\n",
        "print(MSE_base)"
      ],
      "execution_count": null,
      "outputs": [
        {
          "output_type": "stream",
          "text": [
            "2.764884155979084\n"
          ],
          "name": "stdout"
        }
      ]
    },
    {
      "cell_type": "code",
      "metadata": {
        "id": "jRcQMYCV-pRm",
        "outputId": "b5328bfa-c296-467b-8d1d-83b4162095ad",
        "colab": {
          "base_uri": "https://localhost:8080/"
        }
      },
      "source": [
        "MSE_modelo = df['error^2'].sum() / len(df)\n",
        "MSE_modelo"
      ],
      "execution_count": null,
      "outputs": [
        {
          "output_type": "execute_result",
          "data": {
            "text/plain": [
              "1.462002672855683"
            ]
          },
          "metadata": {
            "tags": []
          },
          "execution_count": 23
        }
      ]
    },
    {
      "cell_type": "code",
      "metadata": {
        "id": "_uWhF8uAABtr",
        "outputId": "0ab72afe-5a84-4133-edcd-505313b2dc56",
        "colab": {
          "base_uri": "https://localhost:8080/"
        }
      },
      "source": [
        "R2 = 1 - MSE_modelo/MSE_base\n",
        "R2"
      ],
      "execution_count": null,
      "outputs": [
        {
          "output_type": "execute_result",
          "data": {
            "text/plain": [
              "0.4712246190517275"
            ]
          },
          "metadata": {
            "tags": []
          },
          "execution_count": 24
        }
      ]
    },
    {
      "cell_type": "markdown",
      "metadata": {
        "id": "pSB61lQ1BYJa"
      },
      "source": [
        "## Normalizar las caractísticas"
      ]
    },
    {
      "cell_type": "code",
      "metadata": {
        "id": "RZf7mBFTT1Jw"
      },
      "source": [
        "X_estandarizados=X.copy()\n",
        "columnas = X.columns\n",
        "\n",
        "scaler = StandardScaler()\n",
        "\n",
        "X_estandarizados[columnas] = scaler.fit_transform(X[columnas])"
      ],
      "execution_count": null,
      "outputs": []
    },
    {
      "cell_type": "markdown",
      "metadata": {
        "id": "A4JQZCDd9Hb_"
      },
      "source": [
        "##Tarea:\n",
        "1. Calcular R2 con el método visto para el conjunto de entrenamiento\n",
        "2. Calcular los coeficientes del modelo con X_estandarizados\n"
      ]
    },
    {
      "cell_type": "markdown",
      "metadata": {
        "id": "xynjq9w-KH_s"
      },
      "source": [
        "#Recursos\n",
        "https://www.accelebrate.com/blog/interpreting-results-from-linear-regression-is-the-data-appropriate\n",
        "\n",
        "https://towardsdatascience.com/the-complete-guide-to-linear-regression-in-python-3d3f8f06bf8\n",
        "\n"
      ]
    }
  ]
}